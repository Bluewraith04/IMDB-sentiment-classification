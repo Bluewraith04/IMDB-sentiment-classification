{
 "cells": [
  {
   "cell_type": "markdown",
   "id": "9e74a5fd",
   "metadata": {},
   "source": []
  },
  {
   "cell_type": "markdown",
   "id": "17321de2",
   "metadata": {},
   "source": [
    "### **Setup**"
   ]
  },
  {
   "cell_type": "code",
   "execution_count": 41,
   "id": "5aca3461",
   "metadata": {},
   "outputs": [],
   "source": [
    "import numpy as np\n",
    "import pandas as pd\n",
    "import matplotlib.pyplot as plt\n",
    "import seaborn as sns"
   ]
  },
  {
   "cell_type": "code",
   "execution_count": 42,
   "id": "9c002811",
   "metadata": {},
   "outputs": [
    {
     "data": {
      "text/html": [
       "<div>\n",
       "<style scoped>\n",
       "    .dataframe tbody tr th:only-of-type {\n",
       "        vertical-align: middle;\n",
       "    }\n",
       "\n",
       "    .dataframe tbody tr th {\n",
       "        vertical-align: top;\n",
       "    }\n",
       "\n",
       "    .dataframe thead th {\n",
       "        text-align: right;\n",
       "    }\n",
       "</style>\n",
       "<table border=\"1\" class=\"dataframe\">\n",
       "  <thead>\n",
       "    <tr style=\"text-align: right;\">\n",
       "      <th></th>\n",
       "      <th>clean_review</th>\n",
       "      <th>sentiment</th>\n",
       "    </tr>\n",
       "  </thead>\n",
       "  <tbody>\n",
       "    <tr>\n",
       "      <th>0</th>\n",
       "      <td>one of the other reviewers has mentioned that ...</td>\n",
       "      <td>positive</td>\n",
       "    </tr>\n",
       "    <tr>\n",
       "      <th>1</th>\n",
       "      <td>a wonderful little production the filming tech...</td>\n",
       "      <td>positive</td>\n",
       "    </tr>\n",
       "    <tr>\n",
       "      <th>2</th>\n",
       "      <td>i thought this was a wonderful way to spend ti...</td>\n",
       "      <td>positive</td>\n",
       "    </tr>\n",
       "    <tr>\n",
       "      <th>3</th>\n",
       "      <td>basically theres a family where a little boy j...</td>\n",
       "      <td>negative</td>\n",
       "    </tr>\n",
       "    <tr>\n",
       "      <th>4</th>\n",
       "      <td>petter matteis love in the time of money is a ...</td>\n",
       "      <td>positive</td>\n",
       "    </tr>\n",
       "  </tbody>\n",
       "</table>\n",
       "</div>"
      ],
      "text/plain": [
       "                                        clean_review sentiment\n",
       "0  one of the other reviewers has mentioned that ...  positive\n",
       "1  a wonderful little production the filming tech...  positive\n",
       "2  i thought this was a wonderful way to spend ti...  positive\n",
       "3  basically theres a family where a little boy j...  negative\n",
       "4  petter matteis love in the time of money is a ...  positive"
      ]
     },
     "execution_count": 42,
     "metadata": {},
     "output_type": "execute_result"
    }
   ],
   "source": [
    "df = pd.read_csv(\"../data/processed/imdb_clean.csv\")\n",
    "df = df[[\"clean_review\", \"sentiment\"]]\n",
    "df.head()"
   ]
  },
  {
   "cell_type": "markdown",
   "id": "4a83ad31",
   "metadata": {},
   "source": [
    "### **Dataset Overview**"
   ]
  },
  {
   "cell_type": "code",
   "execution_count": 43,
   "id": "3b1b4cd6",
   "metadata": {},
   "outputs": [
    {
     "name": "stdout",
     "output_type": "stream",
     "text": [
      "<class 'pandas.core.frame.DataFrame'>\n",
      "RangeIndex: 50000 entries, 0 to 49999\n",
      "Data columns (total 2 columns):\n",
      " #   Column        Non-Null Count  Dtype \n",
      "---  ------        --------------  ----- \n",
      " 0   clean_review  50000 non-null  object\n",
      " 1   sentiment     50000 non-null  object\n",
      "dtypes: object(2)\n",
      "memory usage: 781.4+ KB\n"
     ]
    }
   ],
   "source": [
    "df.info()"
   ]
  },
  {
   "cell_type": "code",
   "execution_count": 44,
   "id": "0f1271c6",
   "metadata": {},
   "outputs": [
    {
     "data": {
      "text/plain": [
       "<Axes: xlabel='sentiment'>"
      ]
     },
     "execution_count": 44,
     "metadata": {},
     "output_type": "execute_result"
    },
    {
     "data": {
      "image/png": "[encoded data removed]",
      "text/plain": [
       "<Figure size 640x480 with 1 Axes>"
      ]
     },
     "metadata": {},
     "output_type": "display_data"
    }
   ],
   "source": [
    "df[\"sentiment\"].value_counts(normalize=True).plot(kind='bar')"
   ]
  },
  {
   "cell_type": "markdown",
   "id": "e6585609",
   "metadata": {},
   "source": [
    "The dataset seems to be distributed evenly between positive and negative reviews."
   ]
  },
  {
   "cell_type": "markdown",
   "id": "c18c6e25",
   "metadata": {},
   "source": [
    "### **Analyzing Review Lengths**\n"
   ]
  },
  {
   "cell_type": "code",
   "execution_count": 45,
   "id": "335b015d",
   "metadata": {},
   "outputs": [
    {
     "data": {
      "text/plain": [
       "<Axes: ylabel='Count'>"
      ]
     },
     "execution_count": 45,
     "metadata": {},
     "output_type": "execute_result"
    },
    {
     "data": {
      "image/png": "[encoded data removed]",
      "text/plain": [
       "<Figure size 640x480 with 1 Axes>"
      ]
     },
     "metadata": {},
     "output_type": "display_data"
    }
   ],
   "source": [
    "df['review_len'] = df['clean_review'].str.split().str.len()\n",
    "sns.histplot(df['review_len'].values, bins=50)"
   ]
  },
  {
   "cell_type": "markdown",
   "id": "c7b5198b",
   "metadata": {},
   "source": [
    "### **Checking for Duplicates**"
   ]
  },
  {
   "cell_type": "code",
   "execution_count": 46,
   "id": "add65b52",
   "metadata": {},
   "outputs": [
    {
     "data": {
      "text/plain": [
       "420"
      ]
     },
     "execution_count": 46,
     "metadata": {},
     "output_type": "execute_result"
    }
   ],
   "source": [
    "df.duplicated(subset='clean_review').sum()"
   ]
  },
  {
   "cell_type": "code",
   "execution_count": 47,
   "id": "8fe2cbc8",
   "metadata": {},
   "outputs": [
    {
     "data": {
      "text/plain": [
       "sentiment\n",
       "negative    304\n",
       "positive    116\n",
       "Name: count, dtype: int64"
      ]
     },
     "execution_count": 47,
     "metadata": {},
     "output_type": "execute_result"
    }
   ],
   "source": [
    "df[df.duplicated(subset='clean_review')].value_counts('sentiment')"
   ]
  },
  {
   "cell_type": "markdown",
   "id": "14a1aa4b",
   "metadata": {},
   "source": [
    "There seems to be quite a bit of duplicate reviews but since they add up to less than\n",
    "1% of the total dataset, I'm choosing to drop them entirely."
   ]
  },
  {
   "cell_type": "code",
   "execution_count": 48,
   "id": "3d0fca86",
   "metadata": {},
   "outputs": [],
   "source": [
    "df = df.drop_duplicates(subset='clean_review', keep='first').reset_index(drop=True)\n"
   ]
  },
  {
   "cell_type": "markdown",
   "id": "35ff0772",
   "metadata": {},
   "source": [
    "### **Word Frequency Analysis**"
   ]
  },
  {
   "cell_type": "code",
   "execution_count": 49,
   "id": "a4fd5519",
   "metadata": {},
   "outputs": [],
   "source": [
    "from collections import Counter\n",
    "from nltk.corpus import stopwords\n",
    "stop = set(stopwords.words('english'))"
   ]
  },
  {
   "cell_type": "markdown",
   "id": "e38be356",
   "metadata": {},
   "source": [
    "**Most Common Words Overall**"
   ]
  },
  {
   "cell_type": "code",
   "execution_count": 50,
   "id": "7187053b",
   "metadata": {},
   "outputs": [
    {
     "name": "stdout",
     "output_type": "stream",
     "text": [
      "('movie', 82909)\n",
      "('film', 73989)\n",
      "('one', 50008)\n",
      "('like', 38516)\n",
      "('good', 28300)\n",
      "('even', 24083)\n",
      "('would', 23802)\n",
      "('time', 23107)\n",
      "('really', 22731)\n",
      "('see', 22232)\n",
      "('story', 21919)\n",
      "('much', 18732)\n",
      "('well', 18320)\n",
      "('get', 18038)\n",
      "('great', 17600)\n",
      "('bad', 17491)\n",
      "('also', 17368)\n",
      "('people', 17327)\n",
      "('first', 16691)\n",
      "('dont', 16493)\n"
     ]
    }
   ],
   "source": [
    "all_words = [\n",
    "    w.lower()\n",
    "    for review in df['clean_review']\n",
    "    for w in review.split()\n",
    "    if w.isalpha() and w.lower() not in stop\n",
    "]\n",
    "\n",
    "word_freq = Counter(all_words)\n",
    "print(*word_freq.most_common(20), sep='\\n')"
   ]
  },
  {
   "cell_type": "markdown",
   "id": "6dfb0783",
   "metadata": {},
   "source": [
    "**Class-specific word frequencies**"
   ]
  },
  {
   "cell_type": "code",
   "execution_count": 51,
   "id": "4a7c2013",
   "metadata": {},
   "outputs": [],
   "source": [
    "pos_words = [\n",
    "    w.lower()\n",
    "    for review in df[df['sentiment'] == 'positive']['clean_review']\n",
    "    for w in review.split()\n",
    "    if w.isalpha() and w.lower() not in stop\n",
    "]\n",
    "\n",
    "neg_words = [\n",
    "    w.lower()\n",
    "    for review in df[df['sentiment'] == 'negative']['clean_review']\n",
    "    for w in review.split()\n",
    "    if w.isalpha() and w.lower() not in stop\n",
    "]"
   ]
  },
  {
   "cell_type": "code",
   "execution_count": 52,
   "id": "d837488a",
   "metadata": {},
   "outputs": [
    {
     "name": "stdout",
     "output_type": "stream",
     "text": [
      "Positive\n",
      "('film', 39303)\n",
      "('movie', 35860)\n",
      "('one', 25630)\n",
      "('like', 17001)\n",
      "('good', 14296)\n",
      "('great', 12574)\n",
      "('story', 12347)\n",
      "('see', 11818)\n",
      "('time', 11739)\n",
      "('well', 10940)\n",
      "\n",
      "Negative\n",
      "('movie', 47049)\n",
      "('film', 34686)\n",
      "('one', 24378)\n",
      "('like', 21515)\n",
      "('even', 14762)\n",
      "('good', 14004)\n",
      "('bad', 13931)\n",
      "('would', 13482)\n",
      "('really', 12088)\n",
      "('time', 11368)\n"
     ]
    }
   ],
   "source": [
    "pos_freq = Counter(pos_words)\n",
    "neg_freq = Counter(neg_words)\n",
    "\n",
    "print('Positive', *pos_freq.most_common(10), sep='\\n', end='\\n\\n')\n",
    "print('Negative', *neg_freq.most_common(10), sep='\\n')"
   ]
  },
  {
   "cell_type": "markdown",
   "id": "6fb824f2",
   "metadata": {},
   "source": [
    "### **N-gram Exploration**"
   ]
  },
  {
   "cell_type": "code",
   "execution_count": 53,
   "id": "b6999dd3",
   "metadata": {},
   "outputs": [],
   "source": [
    "from sklearn.feature_extraction.text import CountVectorizer"
   ]
  },
  {
   "cell_type": "code",
   "execution_count": 54,
   "id": "9d382f24",
   "metadata": {},
   "outputs": [],
   "source": [
    "bigram_vectorizer = CountVectorizer(ngram_range=(2,2), stop_words='english', max_features=50)\n",
    "\n",
    "X_bigrams = bigram_vectorizer.fit_transform(df['clean_review'])"
   ]
  },
  {
   "cell_type": "code",
   "execution_count": 55,
   "id": "1b50c98a",
   "metadata": {},
   "outputs": [],
   "source": [
    "\n",
    "bigram_counts = X_bigrams.toarray().sum(axis=0)\n",
    "bigram_vocab = bigram_vectorizer.get_feature_names_out()"
   ]
  },
  {
   "cell_type": "code",
   "execution_count": 56,
   "id": "ea4f7536",
   "metadata": {},
   "outputs": [
    {
     "data": {
      "text/plain": [
       "[(3271, 'ive seen'),\n",
       " (2179, 'dont know'),\n",
       " (2124, 'special effects'),\n",
       " (1647, 'looks like'),\n",
       " (1466, 'movie just'),\n",
       " (1408, 'waste time'),\n",
       " (1359, 'im sure'),\n",
       " (1351, 'good movie'),\n",
       " (1282, 'watch movie'),\n",
       " (1282, 'dont think'),\n",
       " (1277, 'look like'),\n",
       " (1237, 'new york'),\n",
       " (1217, 'low budget'),\n",
       " (1185, 'years ago'),\n",
       " (1062, 'pretty good'),\n",
       " (1058, 'year old'),\n",
       " (1053, 'high school'),\n",
       " (1028, 'main character'),\n",
       " (1027, 'movie like'),\n",
       " (973, 'watching movie')]"
      ]
     },
     "execution_count": 56,
     "metadata": {},
     "output_type": "execute_result"
    }
   ],
   "source": [
    "top_bigrams = sorted(zip(bigram_counts, bigram_vocab), reverse=True)[:20]\n",
    "top_bigrams"
   ]
  },
  {
   "cell_type": "markdown",
   "id": "6b68d69b",
   "metadata": {},
   "source": [
    "**Compare by Sentiment**"
   ]
  },
  {
   "cell_type": "code",
   "execution_count": 57,
   "id": "684dd16e",
   "metadata": {},
   "outputs": [],
   "source": [
    "def top_ngrams(corpus, n=2, top_k=15):\n",
    "    vec = CountVectorizer(ngram_range=(n, n), stop_words='english').fit(corpus)\n",
    "    bag = vec.transform(corpus)\n",
    "    sum_words = bag.sum(axis=0)\n",
    "    words_freq = [(w, sum_words[0, idx]) for w, idx in vec.vocabulary_.items()]\n",
    "    return sorted(words_freq, key=lambda x: x[1], reverse=True)[:top_k]"
   ]
  },
  {
   "cell_type": "markdown",
   "id": "b371a89c",
   "metadata": {},
   "source": [
    "Bigrams"
   ]
  },
  {
   "cell_type": "code",
   "execution_count": 58,
   "id": "48d9d029",
   "metadata": {},
   "outputs": [
    {
     "name": "stdout",
     "output_type": "stream",
     "text": [
      "Positive:  [('ive seen', 1475), ('dont know', 900), ('new york', 801), ('special effects', 761), ('years ago', 702), ('great movie', 671), ('good movie', 655), ('real life', 569), ('dont think', 568), ('saw movie', 565), ('pretty good', 563), ('im sure', 558), ('watch movie', 547), ('great film', 543), ('years later', 528)]\n"
     ]
    }
   ],
   "source": [
    "print('Positive: ', top_ngrams(df[df['sentiment'] == 'positive']['clean_review']))"
   ]
  },
  {
   "cell_type": "code",
   "execution_count": 59,
   "id": "b152fe8a",
   "metadata": {},
   "outputs": [
    {
     "name": "stdout",
     "output_type": "stream",
     "text": [
      "Negative:  [('ive seen', 1796), ('special effects', 1363), ('waste time', 1342), ('dont know', 1279), ('looks like', 1233), ('movie just', 1028), ('look like', 935), ('low budget', 834), ('bad movie', 834), ('im sure', 801), ('watch movie', 735), ('worst movie', 726), ('dont think', 714), ('good movie', 696), ('really bad', 672)]\n"
     ]
    }
   ],
   "source": [
    "print('Negative: ', top_ngrams(df[df['sentiment'] == 'negative']['clean_review']))"
   ]
  },
  {
   "cell_type": "markdown",
   "id": "fe320124",
   "metadata": {},
   "source": [
    "Trigrams"
   ]
  },
  {
   "cell_type": "code",
   "execution_count": 60,
   "id": "67ebbf12",
   "metadata": {},
   "outputs": [
    {
     "name": "stdout",
     "output_type": "stream",
     "text": [
      "Positive:  [('new york city', 180), ('world war ii', 152), ('did great job', 150), ('does good job', 139), ('does great job', 134), ('based true story', 126), ('films ive seen', 124), ('did good job', 115), ('movies ive seen', 108), ('movie ive seen', 108), ('film ive seen', 94), ('seen long time', 86), ('highly recommend movie', 85), ('international film festival', 79), ('ive seen movie', 70)]\n"
     ]
    }
   ],
   "source": [
    "print('Positive: ', top_ngrams(df[df['sentiment'] == 'positive']['clean_review'], 3))"
   ]
  },
  {
   "cell_type": "code",
   "execution_count": 61,
   "id": "7ef1ce30",
   "metadata": {},
   "outputs": [
    {
     "name": "stdout",
     "output_type": "stream",
     "text": [
      "Negative:  [('dont waste time', 321), ('movie ive seen', 239), ('worst movie seen', 188), ('waste time money', 170), ('movies ive seen', 162), ('worst movie ive', 138), ('doesnt make sense', 125), ('bad acting bad', 121), ('worst movies seen', 117), ('complete waste time', 113), ('film ive seen', 111), ('worst ive seen', 98), ('worst movies ive', 96), ('films ive seen', 92), ('mystery science theater', 92)]\n"
     ]
    }
   ],
   "source": [
    "print('Negative: ', top_ngrams(df[df['sentiment'] == 'negative']['clean_review'], 3))"
   ]
  },
  {
   "cell_type": "markdown",
   "id": "6be05234",
   "metadata": {},
   "source": [
    "**Most Common Words Per Class**"
   ]
  },
  {
   "cell_type": "code",
   "execution_count": 62,
   "id": "fde1b3ed",
   "metadata": {},
   "outputs": [
    {
     "name": "stdout",
     "output_type": "stream",
     "text": [
      "Positive-leaning words:\n",
      "('great', 12574)\n",
      "('love', 8367)\n",
      "('best', 8272)\n",
      "('excellent', 3242)\n",
      "('beautiful', 2939)\n",
      "('war', 2736)\n",
      "('wonderful', 2597)\n",
      "('perfect', 2334)\n",
      "('performances', 2286)\n",
      "('loved', 2187)\n",
      "('amazing', 1930)\n",
      "('favorite', 1800)\n",
      "('brilliant', 1760)\n",
      "('enjoyed', 1699)\n",
      "('highly', 1595)\n",
      "('heart', 1506)\n",
      "('strong', 1453)\n",
      "('today', 1378)\n",
      "('simple', 1337)\n",
      "('hilarious', 1331)\n",
      "\n",
      "Negative-leaning words:\n",
      "('bad', 13931)\n",
      "('nothing', 5669)\n",
      "('worst', 4740)\n",
      "('minutes', 4123)\n",
      "('script', 3859)\n",
      "('money', 2970)\n",
      "('poor', 2890)\n",
      "('awful', 2872)\n",
      "('boring', 2822)\n",
      "('stupid', 2755)\n",
      "('instead', 2746)\n",
      "('terrible', 2745)\n",
      "('waste', 2554)\n",
      "('worse', 2315)\n",
      "('supposed', 2223)\n",
      "('horrible', 2094)\n",
      "('couldnt', 2078)\n",
      "('oh', 1871)\n",
      "('guess', 1749)\n",
      "('low', 1709)\n"
     ]
    }
   ],
   "source": [
    "pos_words = [w.lower() for review in df[df['sentiment']==\"positive\"]['clean_review'] for w in review.split()]\n",
    "neg_words = [w.lower() for review in df[df['sentiment']==\"negative\"]['clean_review'] for w in review.split()]\n",
    "\n",
    "pos_counts = Counter(pos_words)\n",
    "neg_counts = Counter(neg_words)\n",
    "\n",
    "# words that appear way more in either class\n",
    "unique_pos = [(w, c) for w, c in pos_counts.items() if c > 50 and c > 2*neg_counts[w]]\n",
    "unique_neg = [(w, c) for w, c in neg_counts.items() if c > 50 and c > 2*pos_counts[w]]\n",
    "\n",
    "print(\"Positive-leaning words:\", *sorted(unique_pos, key=lambda x: -x[1])[:20], sep='\\n', end='\\n\\n')\n",
    "print(\"Negative-leaning words:\", *sorted(unique_neg, key=lambda x: -x[1])[:20], sep='\\n')"
   ]
  },
  {
   "cell_type": "markdown",
   "id": "b2d7d30f",
   "metadata": {},
   "source": [
    "## **Save Data**"
   ]
  },
  {
   "cell_type": "code",
   "execution_count": 63,
   "id": "e2453283",
   "metadata": {},
   "outputs": [],
   "source": [
    "df.to_csv(\"../data/processed/imdb_clean.csv\")"
   ]
  }
 ],
 "metadata": {
  "kernelspec": {
   "display_name": "base",
   "language": "python",
   "name": "python3"
  },
  "language_info": {
   "codemirror_mode": {
    "name": "ipython",
    "version": 3
   },
   "file_extension": ".py",
   "mimetype": "text/x-python",
   "name": "python",
   "nbconvert_exporter": "python",
   "pygments_lexer": "ipython3",
   "version": "3.12.7"
  }
 },
 "nbformat": 4,
 "nbformat_minor": 5
}
